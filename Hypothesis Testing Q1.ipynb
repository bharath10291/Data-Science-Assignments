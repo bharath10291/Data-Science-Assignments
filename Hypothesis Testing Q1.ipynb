{
 "cells": [
  {
   "cell_type": "code",
   "execution_count": 20,
   "id": "7a905ab9",
   "metadata": {},
   "outputs": [],
   "source": [
    "import pandas as pd\n",
    "import scipy \n",
    "import numpy as np\n",
    "from scipy import stats \n",
    "import matplotlib.pyplot as plt\n",
    "import seaborn as sns"
   ]
  },
  {
   "cell_type": "code",
   "execution_count": 4,
   "id": "479b6390",
   "metadata": {},
   "outputs": [],
   "source": [
    "df=pd.read_csv(\"Cutlets.csv\")"
   ]
  },
  {
   "cell_type": "code",
   "execution_count": 5,
   "id": "5d5fab34",
   "metadata": {},
   "outputs": [
    {
     "data": {
      "text/html": [
       "<div>\n",
       "<style scoped>\n",
       "    .dataframe tbody tr th:only-of-type {\n",
       "        vertical-align: middle;\n",
       "    }\n",
       "\n",
       "    .dataframe tbody tr th {\n",
       "        vertical-align: top;\n",
       "    }\n",
       "\n",
       "    .dataframe thead th {\n",
       "        text-align: right;\n",
       "    }\n",
       "</style>\n",
       "<table border=\"1\" class=\"dataframe\">\n",
       "  <thead>\n",
       "    <tr style=\"text-align: right;\">\n",
       "      <th></th>\n",
       "      <th>Unit A</th>\n",
       "      <th>Unit B</th>\n",
       "    </tr>\n",
       "  </thead>\n",
       "  <tbody>\n",
       "    <tr>\n",
       "      <th>0</th>\n",
       "      <td>6.8090</td>\n",
       "      <td>6.7703</td>\n",
       "    </tr>\n",
       "    <tr>\n",
       "      <th>1</th>\n",
       "      <td>6.4376</td>\n",
       "      <td>7.5093</td>\n",
       "    </tr>\n",
       "    <tr>\n",
       "      <th>2</th>\n",
       "      <td>6.9157</td>\n",
       "      <td>6.7300</td>\n",
       "    </tr>\n",
       "    <tr>\n",
       "      <th>3</th>\n",
       "      <td>7.3012</td>\n",
       "      <td>6.7878</td>\n",
       "    </tr>\n",
       "    <tr>\n",
       "      <th>4</th>\n",
       "      <td>7.4488</td>\n",
       "      <td>7.1522</td>\n",
       "    </tr>\n",
       "    <tr>\n",
       "      <th>5</th>\n",
       "      <td>7.3871</td>\n",
       "      <td>6.8110</td>\n",
       "    </tr>\n",
       "    <tr>\n",
       "      <th>6</th>\n",
       "      <td>6.8755</td>\n",
       "      <td>7.2212</td>\n",
       "    </tr>\n",
       "    <tr>\n",
       "      <th>7</th>\n",
       "      <td>7.0621</td>\n",
       "      <td>6.6606</td>\n",
       "    </tr>\n",
       "    <tr>\n",
       "      <th>8</th>\n",
       "      <td>6.6840</td>\n",
       "      <td>7.2402</td>\n",
       "    </tr>\n",
       "    <tr>\n",
       "      <th>9</th>\n",
       "      <td>6.8236</td>\n",
       "      <td>7.0503</td>\n",
       "    </tr>\n",
       "    <tr>\n",
       "      <th>10</th>\n",
       "      <td>7.3930</td>\n",
       "      <td>6.8810</td>\n",
       "    </tr>\n",
       "    <tr>\n",
       "      <th>11</th>\n",
       "      <td>7.5169</td>\n",
       "      <td>7.4059</td>\n",
       "    </tr>\n",
       "    <tr>\n",
       "      <th>12</th>\n",
       "      <td>6.9246</td>\n",
       "      <td>6.7652</td>\n",
       "    </tr>\n",
       "    <tr>\n",
       "      <th>13</th>\n",
       "      <td>6.9256</td>\n",
       "      <td>6.0380</td>\n",
       "    </tr>\n",
       "    <tr>\n",
       "      <th>14</th>\n",
       "      <td>6.5797</td>\n",
       "      <td>7.1581</td>\n",
       "    </tr>\n",
       "    <tr>\n",
       "      <th>15</th>\n",
       "      <td>6.8394</td>\n",
       "      <td>7.0240</td>\n",
       "    </tr>\n",
       "    <tr>\n",
       "      <th>16</th>\n",
       "      <td>6.5970</td>\n",
       "      <td>6.6672</td>\n",
       "    </tr>\n",
       "    <tr>\n",
       "      <th>17</th>\n",
       "      <td>7.2705</td>\n",
       "      <td>7.4314</td>\n",
       "    </tr>\n",
       "    <tr>\n",
       "      <th>18</th>\n",
       "      <td>7.2828</td>\n",
       "      <td>7.3070</td>\n",
       "    </tr>\n",
       "    <tr>\n",
       "      <th>19</th>\n",
       "      <td>7.3495</td>\n",
       "      <td>6.7478</td>\n",
       "    </tr>\n",
       "    <tr>\n",
       "      <th>20</th>\n",
       "      <td>6.9438</td>\n",
       "      <td>6.8889</td>\n",
       "    </tr>\n",
       "    <tr>\n",
       "      <th>21</th>\n",
       "      <td>7.1560</td>\n",
       "      <td>7.4220</td>\n",
       "    </tr>\n",
       "    <tr>\n",
       "      <th>22</th>\n",
       "      <td>6.5341</td>\n",
       "      <td>6.5217</td>\n",
       "    </tr>\n",
       "    <tr>\n",
       "      <th>23</th>\n",
       "      <td>7.2854</td>\n",
       "      <td>7.1688</td>\n",
       "    </tr>\n",
       "    <tr>\n",
       "      <th>24</th>\n",
       "      <td>6.9952</td>\n",
       "      <td>6.7594</td>\n",
       "    </tr>\n",
       "    <tr>\n",
       "      <th>25</th>\n",
       "      <td>6.8568</td>\n",
       "      <td>6.9399</td>\n",
       "    </tr>\n",
       "    <tr>\n",
       "      <th>26</th>\n",
       "      <td>7.2163</td>\n",
       "      <td>7.0133</td>\n",
       "    </tr>\n",
       "    <tr>\n",
       "      <th>27</th>\n",
       "      <td>6.6801</td>\n",
       "      <td>6.9182</td>\n",
       "    </tr>\n",
       "    <tr>\n",
       "      <th>28</th>\n",
       "      <td>6.9431</td>\n",
       "      <td>6.3346</td>\n",
       "    </tr>\n",
       "    <tr>\n",
       "      <th>29</th>\n",
       "      <td>7.0852</td>\n",
       "      <td>7.5459</td>\n",
       "    </tr>\n",
       "    <tr>\n",
       "      <th>30</th>\n",
       "      <td>6.7794</td>\n",
       "      <td>7.0992</td>\n",
       "    </tr>\n",
       "    <tr>\n",
       "      <th>31</th>\n",
       "      <td>7.2783</td>\n",
       "      <td>7.1180</td>\n",
       "    </tr>\n",
       "    <tr>\n",
       "      <th>32</th>\n",
       "      <td>7.1561</td>\n",
       "      <td>6.6965</td>\n",
       "    </tr>\n",
       "    <tr>\n",
       "      <th>33</th>\n",
       "      <td>7.3943</td>\n",
       "      <td>6.5780</td>\n",
       "    </tr>\n",
       "    <tr>\n",
       "      <th>34</th>\n",
       "      <td>6.9405</td>\n",
       "      <td>7.3875</td>\n",
       "    </tr>\n",
       "  </tbody>\n",
       "</table>\n",
       "</div>"
      ],
      "text/plain": [
       "    Unit A  Unit B\n",
       "0   6.8090  6.7703\n",
       "1   6.4376  7.5093\n",
       "2   6.9157  6.7300\n",
       "3   7.3012  6.7878\n",
       "4   7.4488  7.1522\n",
       "5   7.3871  6.8110\n",
       "6   6.8755  7.2212\n",
       "7   7.0621  6.6606\n",
       "8   6.6840  7.2402\n",
       "9   6.8236  7.0503\n",
       "10  7.3930  6.8810\n",
       "11  7.5169  7.4059\n",
       "12  6.9246  6.7652\n",
       "13  6.9256  6.0380\n",
       "14  6.5797  7.1581\n",
       "15  6.8394  7.0240\n",
       "16  6.5970  6.6672\n",
       "17  7.2705  7.4314\n",
       "18  7.2828  7.3070\n",
       "19  7.3495  6.7478\n",
       "20  6.9438  6.8889\n",
       "21  7.1560  7.4220\n",
       "22  6.5341  6.5217\n",
       "23  7.2854  7.1688\n",
       "24  6.9952  6.7594\n",
       "25  6.8568  6.9399\n",
       "26  7.2163  7.0133\n",
       "27  6.6801  6.9182\n",
       "28  6.9431  6.3346\n",
       "29  7.0852  7.5459\n",
       "30  6.7794  7.0992\n",
       "31  7.2783  7.1180\n",
       "32  7.1561  6.6965\n",
       "33  7.3943  6.5780\n",
       "34  6.9405  7.3875"
      ]
     },
     "execution_count": 5,
     "metadata": {},
     "output_type": "execute_result"
    }
   ],
   "source": [
    "df"
   ]
  },
  {
   "cell_type": "code",
   "execution_count": 8,
   "id": "690d3b2e",
   "metadata": {},
   "outputs": [],
   "source": [
    "a=df.iloc[:,0]"
   ]
  },
  {
   "cell_type": "code",
   "execution_count": 9,
   "id": "9d537657",
   "metadata": {},
   "outputs": [
    {
     "data": {
      "text/plain": [
       "0     6.8090\n",
       "1     6.4376\n",
       "2     6.9157\n",
       "3     7.3012\n",
       "4     7.4488\n",
       "5     7.3871\n",
       "6     6.8755\n",
       "7     7.0621\n",
       "8     6.6840\n",
       "9     6.8236\n",
       "10    7.3930\n",
       "11    7.5169\n",
       "12    6.9246\n",
       "13    6.9256\n",
       "14    6.5797\n",
       "15    6.8394\n",
       "16    6.5970\n",
       "17    7.2705\n",
       "18    7.2828\n",
       "19    7.3495\n",
       "20    6.9438\n",
       "21    7.1560\n",
       "22    6.5341\n",
       "23    7.2854\n",
       "24    6.9952\n",
       "25    6.8568\n",
       "26    7.2163\n",
       "27    6.6801\n",
       "28    6.9431\n",
       "29    7.0852\n",
       "30    6.7794\n",
       "31    7.2783\n",
       "32    7.1561\n",
       "33    7.3943\n",
       "34    6.9405\n",
       "Name: Unit A, dtype: float64"
      ]
     },
     "execution_count": 9,
     "metadata": {},
     "output_type": "execute_result"
    }
   ],
   "source": [
    "a"
   ]
  },
  {
   "cell_type": "code",
   "execution_count": 10,
   "id": "96d836d9",
   "metadata": {},
   "outputs": [],
   "source": [
    "b=df.iloc[:,-1]"
   ]
  },
  {
   "cell_type": "code",
   "execution_count": 11,
   "id": "f5149c40",
   "metadata": {},
   "outputs": [
    {
     "data": {
      "text/plain": [
       "0     6.7703\n",
       "1     7.5093\n",
       "2     6.7300\n",
       "3     6.7878\n",
       "4     7.1522\n",
       "5     6.8110\n",
       "6     7.2212\n",
       "7     6.6606\n",
       "8     7.2402\n",
       "9     7.0503\n",
       "10    6.8810\n",
       "11    7.4059\n",
       "12    6.7652\n",
       "13    6.0380\n",
       "14    7.1581\n",
       "15    7.0240\n",
       "16    6.6672\n",
       "17    7.4314\n",
       "18    7.3070\n",
       "19    6.7478\n",
       "20    6.8889\n",
       "21    7.4220\n",
       "22    6.5217\n",
       "23    7.1688\n",
       "24    6.7594\n",
       "25    6.9399\n",
       "26    7.0133\n",
       "27    6.9182\n",
       "28    6.3346\n",
       "29    7.5459\n",
       "30    7.0992\n",
       "31    7.1180\n",
       "32    6.6965\n",
       "33    6.5780\n",
       "34    7.3875\n",
       "Name: Unit B, dtype: float64"
      ]
     },
     "execution_count": 11,
     "metadata": {},
     "output_type": "execute_result"
    }
   ],
   "source": [
    "b"
   ]
  },
  {
   "cell_type": "code",
   "execution_count": 21,
   "id": "8f7a6224",
   "metadata": {},
   "outputs": [
    {
     "data": {
      "text/plain": [
       "<AxesSubplot:xlabel='Unit A', ylabel='Count'>"
      ]
     },
     "execution_count": 21,
     "metadata": {},
     "output_type": "execute_result"
    },
    {
     "data": {
      "image/png": "[encoded data removed]",
      "text/plain": [
       "<Figure size 432x288 with 1 Axes>"
      ]
     },
     "metadata": {
      "needs_background": "light"
     },
     "output_type": "display_data"
    }
   ],
   "source": [
    "sns.histplot(a)"
   ]
  },
  {
   "cell_type": "code",
   "execution_count": 22,
   "id": "9a7b1102",
   "metadata": {},
   "outputs": [
    {
     "data": {
      "text/plain": [
       "<AxesSubplot:xlabel='Unit B', ylabel='Count'>"
      ]
     },
     "execution_count": 22,
     "metadata": {},
     "output_type": "execute_result"
    },
    {
     "data": {
      "image/png": "[encoded data removed]",
      "text/plain": [
       "<Figure size 432x288 with 1 Axes>"
      ]
     },
     "metadata": {
      "needs_background": "light"
     },
     "output_type": "display_data"
    }
   ],
   "source": [
    "sns.histplot(b)"
   ]
  },
  {
   "cell_type": "code",
   "execution_count": 23,
   "id": "5dd1977b",
   "metadata": {},
   "outputs": [],
   "source": [
    "# both aren't normally distributed so there is a signoficant difference"
   ]
  },
  {
   "cell_type": "code",
   "execution_count": 27,
   "id": "4d8389bc",
   "metadata": {},
   "outputs": [],
   "source": [
    "# Null hypothesis is there is no significant difference between diameters of cutlets\n",
    "# Alternate hypothesis is there is significant difference between diameters of cutlets\n",
    "\n",
    "# Alternater hypothesis is right"
   ]
  },
  {
   "cell_type": "code",
   "execution_count": 25,
   "id": "0618b2e9",
   "metadata": {},
   "outputs": [
    {
     "data": {
      "text/plain": [
       "Ttest_indResult(statistic=0.7228688704678063, pvalue=0.4722394724599501)"
      ]
     },
     "execution_count": 25,
     "metadata": {},
     "output_type": "execute_result"
    }
   ],
   "source": [
    "stats.ttest_ind(a,b)"
   ]
  },
  {
   "cell_type": "code",
   "execution_count": 26,
   "id": "cf5c3e6a",
   "metadata": {},
   "outputs": [],
   "source": [
    "# since p value is <5%, reject null hypothesis"
   ]
  },
  {
   "cell_type": "code",
   "execution_count": null,
   "id": "661ccc24",
   "metadata": {},
   "outputs": [],
   "source": []
  }
 ],
 "metadata": {
  "kernelspec": {
   "display_name": "Python 3 (ipykernel)",
   "language": "python",
   "name": "python3"
  },
  "language_info": {
   "codemirror_mode": {
    "name": "ipython",
    "version": 3
   },
   "file_extension": ".py",
   "mimetype": "text/x-python",
   "name": "python",
   "nbconvert_exporter": "python",
   "pygments_lexer": "ipython3",
   "version": "3.9.7"
  }
 },
 "nbformat": 4,
 "nbformat_minor": 5
}
