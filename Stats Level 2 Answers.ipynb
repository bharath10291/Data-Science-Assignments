{
 "cells": [
  {
   "cell_type": "markdown",
   "id": "3724dc39",
   "metadata": {},
   "source": [
    "## Q3"
   ]
  },
  {
   "cell_type": "code",
   "execution_count": 13,
   "id": "085a42f8",
   "metadata": {},
   "outputs": [],
   "source": [
    "import numpy as np\n",
    "import pandas as pd\n",
    "import math"
   ]
  },
  {
   "cell_type": "code",
   "execution_count": 4,
   "id": "a5ba9e96",
   "metadata": {},
   "outputs": [],
   "source": [
    "x=50\n",
    "y=40\n",
    "n=100"
   ]
  },
  {
   "cell_type": "code",
   "execution_count": 2,
   "id": "8d8c1e24",
   "metadata": {},
   "outputs": [
    {
     "name": "stdout",
     "output_type": "stream",
     "text": [
      "The probability of an investigation is 21.13%\n"
     ]
    }
   ],
   "source": [
    "sample_mean=x\n",
    "sample_std=y / math.sqrt(n)\n",
    "lower=45\n",
    "upper=55\n",
    "\n",
    "z_lower=(lower - sample_mean)/sample_std\n",
    "z_upper=(upper - sample_mean)/sample_std\n",
    "\n",
    "prob=1-(0.5*(math.erf(z_upper/math.sqrt(2))-math.erf(z_lower/math.sqrt(2))))\n",
    "print(\"The probability of an investigation is {:.2%}\".format(prob))"
   ]
  },
  {
   "cell_type": "markdown",
   "id": "cb260f0c",
   "metadata": {},
   "source": [
    "### Q4"
   ]
  },
  {
   "cell_type": "code",
   "execution_count": 7,
   "id": "9385f79c",
   "metadata": {},
   "outputs": [],
   "source": [
    "X=50\n",
    "Y=40\n",
    "p = 0.05\n",
    "lower = 45\n",
    "upper = 55"
   ]
  },
  {
   "cell_type": "code",
   "execution_count": 9,
   "id": "8d918e19",
   "metadata": {},
   "outputs": [
    {
     "name": "stdout",
     "output_type": "stream",
     "text": [
      "The minimum sample size required is greater than 150.\n"
     ]
    }
   ],
   "source": [
    "#z-scores for lower and upper bounds\n",
    "z_lower=(lower-mu)/(sigma/math.sqrt(150))\n",
    "z_upper=(upper-mu)/(sigma/math.sqrt(150))\n",
    "\n",
    "# probability of a transaction being in the no-investigation range\n",
    "prob_no_investigation=0.5*(math.erf(z_upper/math.sqrt(2))-math.erf(z_lower/math.sqrt(2)))\n",
    "\n",
    "# Check if probability of investigation is less than or equal to desired probability\n",
    "if 1 - prob_no_investigation <= p:\n",
    "    print(\"The minimum sample size required is 150.\")\n",
    "else:\n",
    "    print(\"The minimum sample size required is greater than 150.\")"
   ]
  },
  {
   "cell_type": "markdown",
   "id": "e5f8a5e6",
   "metadata": {},
   "source": [
    "## Q5"
   ]
  },
  {
   "cell_type": "code",
   "execution_count": 16,
   "id": "70d21476",
   "metadata": {},
   "outputs": [],
   "source": [
    "population_size = 40000\n",
    "population_mean = 720\n",
    "population_std = 120\n",
    "sample_size = 100\n",
    "num_samples = 1000"
   ]
  },
  {
   "cell_type": "code",
   "execution_count": 17,
   "id": "7cbea790",
   "metadata": {},
   "outputs": [
    {
     "name": "stdout",
     "output_type": "stream",
     "text": [
      "Standard deviation of the mean across several samples:  11.946990534938303\n"
     ]
    }
   ],
   "source": [
    "# Generate random samples from population\n",
    "samples = np.random.normal(population_mean, population_std, size=(num_samples, sample_size))\n",
    "\n",
    "# Calculate mean and standard deviation of each sample\n",
    "sample_means = np.mean(samples, axis=1)\n",
    "sample_std = np.std(samples, axis=1)\n",
    "\n",
    "# Calculate standard deviation of the mean across several samples\n",
    "std_of_means = np.std(sample_means)\n",
    "\n",
    "print(\"Standard deviation of the mean across several samples: \", std_of_means)"
   ]
  },
  {
   "cell_type": "code",
   "execution_count": null,
   "id": "aea0c33c",
   "metadata": {},
   "outputs": [],
   "source": []
  }
 ],
 "metadata": {
  "kernelspec": {
   "display_name": "Python 3 (ipykernel)",
   "language": "python",
   "name": "python3"
  },
  "language_info": {
   "codemirror_mode": {
    "name": "ipython",
    "version": 3
   },
   "file_extension": ".py",
   "mimetype": "text/x-python",
   "name": "python",
   "nbconvert_exporter": "python",
   "pygments_lexer": "ipython3",
   "version": "3.9.7"
  }
 },
 "nbformat": 4,
 "nbformat_minor": 5
}
