{
 "cells": [
  {
   "cell_type": "code",
   "execution_count": 1,
   "id": "b80d0453",
   "metadata": {},
   "outputs": [
    {
     "data": {
      "text/html": [
       "<div>\n",
       "<style scoped>\n",
       "    .dataframe tbody tr th:only-of-type {\n",
       "        vertical-align: middle;\n",
       "    }\n",
       "\n",
       "    .dataframe tbody tr th {\n",
       "        vertical-align: top;\n",
       "    }\n",
       "\n",
       "    .dataframe thead th {\n",
       "        text-align: right;\n",
       "    }\n",
       "</style>\n",
       "<table border=\"1\" class=\"dataframe\">\n",
       "  <thead>\n",
       "    <tr style=\"text-align: right;\">\n",
       "      <th></th>\n",
       "      <th>Observed Values</th>\n",
       "      <th>East</th>\n",
       "      <th>West</th>\n",
       "      <th>North</th>\n",
       "      <th>South</th>\n",
       "    </tr>\n",
       "  </thead>\n",
       "  <tbody>\n",
       "    <tr>\n",
       "      <th>0</th>\n",
       "      <td>Males</td>\n",
       "      <td>50</td>\n",
       "      <td>142</td>\n",
       "      <td>131</td>\n",
       "      <td>70</td>\n",
       "    </tr>\n",
       "    <tr>\n",
       "      <th>1</th>\n",
       "      <td>Females</td>\n",
       "      <td>435</td>\n",
       "      <td>1523</td>\n",
       "      <td>1356</td>\n",
       "      <td>750</td>\n",
       "    </tr>\n",
       "  </tbody>\n",
       "</table>\n",
       "</div>"
      ],
      "text/plain": [
       "  Observed Values  East  West  North  South\n",
       "0           Males    50   142    131     70\n",
       "1         Females   435  1523   1356    750"
      ]
     },
     "execution_count": 1,
     "metadata": {},
     "output_type": "execute_result"
    }
   ],
   "source": [
    "import pandas as pd\n",
    "import scipy \n",
    "import numpy as np\n",
    "import matplotlib.pyplot as plt\n",
    "import seaborn as sns\n",
    "from scipy import stats\n",
    "df=pd.read_csv(\"BuyerRatio.csv\")\n",
    "df"
   ]
  },
  {
   "cell_type": "code",
   "execution_count": 7,
   "id": "e85fddba",
   "metadata": {},
   "outputs": [],
   "source": [
    "east=pd.crosstab(df['Observed Values'],df['East'])"
   ]
  },
  {
   "cell_type": "code",
   "execution_count": 9,
   "id": "fa376b16",
   "metadata": {},
   "outputs": [],
   "source": [
    "west=pd.crosstab(df['Observed Values'],df['West'])"
   ]
  },
  {
   "cell_type": "code",
   "execution_count": 10,
   "id": "a6abd833",
   "metadata": {},
   "outputs": [],
   "source": [
    "north=pd.crosstab(df['Observed Values'],df['North'])"
   ]
  },
  {
   "cell_type": "code",
   "execution_count": 11,
   "id": "70163cfc",
   "metadata": {},
   "outputs": [],
   "source": [
    "south=pd.crosstab(df['Observed Values'],df['South'])"
   ]
  },
  {
   "cell_type": "code",
   "execution_count": 25,
   "id": "20b96f04",
   "metadata": {},
   "outputs": [
    {
     "data": {
      "text/html": [
       "<div>\n",
       "<style scoped>\n",
       "    .dataframe tbody tr th:only-of-type {\n",
       "        vertical-align: middle;\n",
       "    }\n",
       "\n",
       "    .dataframe tbody tr th {\n",
       "        vertical-align: top;\n",
       "    }\n",
       "\n",
       "    .dataframe thead th {\n",
       "        text-align: right;\n",
       "    }\n",
       "</style>\n",
       "<table border=\"1\" class=\"dataframe\">\n",
       "  <thead>\n",
       "    <tr style=\"text-align: right;\">\n",
       "      <th></th>\n",
       "      <th>East</th>\n",
       "      <th>West</th>\n",
       "      <th>North</th>\n",
       "      <th>South</th>\n",
       "    </tr>\n",
       "  </thead>\n",
       "  <tbody>\n",
       "    <tr>\n",
       "      <th>0</th>\n",
       "      <td>50</td>\n",
       "      <td>142</td>\n",
       "      <td>131</td>\n",
       "      <td>70</td>\n",
       "    </tr>\n",
       "    <tr>\n",
       "      <th>1</th>\n",
       "      <td>435</td>\n",
       "      <td>1523</td>\n",
       "      <td>1356</td>\n",
       "      <td>750</td>\n",
       "    </tr>\n",
       "  </tbody>\n",
       "</table>\n",
       "</div>"
      ],
      "text/plain": [
       "   East  West  North  South\n",
       "0    50   142    131     70\n",
       "1   435  1523   1356    750"
      ]
     },
     "execution_count": 25,
     "metadata": {},
     "output_type": "execute_result"
    }
   ],
   "source": [
    "df1=df.iloc[:,1:6]\n",
    "df1"
   ]
  },
  {
   "cell_type": "code",
   "execution_count": 18,
   "id": "c0006220",
   "metadata": {},
   "outputs": [
    {
     "data": {
      "text/plain": [
       "(1.595945538661058,\n",
       " 0.6603094907091882,\n",
       " 3,\n",
       " array([[  42.76531299,  146.81287862,  131.11756787,   72.30424052],\n",
       "        [ 442.23468701, 1518.18712138, 1355.88243213,  747.69575948]]))"
      ]
     },
     "execution_count": 18,
     "metadata": {},
     "output_type": "execute_result"
    }
   ],
   "source": [
    "chi=stats.chi2_contingency(df1)\n",
    "chi"
   ]
  },
  {
   "cell_type": "code",
   "execution_count": 23,
   "id": "e2d0a45f",
   "metadata": {},
   "outputs": [],
   "source": [
    "rows=len(df1.iloc[0:2,0])\n",
    "columns=len(df1.iloc[0,0:4])"
   ]
  },
  {
   "cell_type": "code",
   "execution_count": 24,
   "id": "4946c70e",
   "metadata": {},
   "outputs": [
    {
     "data": {
      "text/plain": [
       "3"
      ]
     },
     "execution_count": 24,
     "metadata": {},
     "output_type": "execute_result"
    }
   ],
   "source": [
    "freedom=(rows-1)*(columns-1)\n",
    "freedom"
   ]
  },
  {
   "cell_type": "code",
   "execution_count": 26,
   "id": "0ada297d",
   "metadata": {},
   "outputs": [
    {
     "data": {
      "text/plain": [
       "array([[  42.76531299,  146.81287862,  131.11756787,   72.30424052],\n",
       "       [ 442.23468701, 1518.18712138, 1355.88243213,  747.69575948]])"
      ]
     },
     "execution_count": 26,
     "metadata": {},
     "output_type": "execute_result"
    }
   ],
   "source": [
    "value=chi[3]\n",
    "value"
   ]
  },
  {
   "cell_type": "code",
   "execution_count": 27,
   "id": "a91ad5ed",
   "metadata": {},
   "outputs": [],
   "source": [
    "from scipy.stats import chi2"
   ]
  },
  {
   "cell_type": "code",
   "execution_count": 30,
   "id": "5a0c710b",
   "metadata": {},
   "outputs": [
    {
     "data": {
      "text/plain": [
       "1.5152956451130446"
      ]
     },
     "execution_count": 30,
     "metadata": {},
     "output_type": "execute_result"
    }
   ],
   "source": [
    "cs=sum([(o-e)**2/e for o,e in zip(df1.values,value)])\n",
    "c_stat=cs[0]+cs[1]\n",
    "c_stat"
   ]
  },
  {
   "cell_type": "code",
   "execution_count": 31,
   "id": "78327d0b",
   "metadata": {},
   "outputs": [
    {
     "data": {
      "text/plain": [
       "7.814727903251179"
      ]
     },
     "execution_count": 31,
     "metadata": {},
     "output_type": "execute_result"
    }
   ],
   "source": [
    "critical_value=chi2.ppf(0.95,3)\n",
    "critical_value"
   ]
  },
  {
   "cell_type": "code",
   "execution_count": 32,
   "id": "c0b2221e",
   "metadata": {},
   "outputs": [],
   "source": [
    "# Accept H1"
   ]
  },
  {
   "cell_type": "code",
   "execution_count": null,
   "id": "b0a5bb76",
   "metadata": {},
   "outputs": [],
   "source": []
  }
 ],
 "metadata": {
  "kernelspec": {
   "display_name": "Python 3 (ipykernel)",
   "language": "python",
   "name": "python3"
  },
  "language_info": {
   "codemirror_mode": {
    "name": "ipython",
    "version": 3
   },
   "file_extension": ".py",
   "mimetype": "text/x-python",
   "name": "python",
   "nbconvert_exporter": "python",
   "pygments_lexer": "ipython3",
   "version": "3.9.7"
  }
 },
 "nbformat": 4,
 "nbformat_minor": 5
}
